{
 "cells": [
  {
   "cell_type": "markdown",
   "id": "82bfdfa4-5ebb-471b-a733-5539b304e7c5",
   "metadata": {},
   "source": [
    "# Data Science Tools and Ecosystem"
   ]
  },
  {
   "cell_type": "markdown",
   "id": "3ee3de3b-2a85-4af5-b237-4fb5f61faef3",
   "metadata": {},
   "source": [
    "In this notebook, Data Science Tools and Ecosystem are summarized.\n"
   ]
  },
  {
   "cell_type": "markdown",
   "id": "a0cf3a29-92bc-4ae7-b5da-55c5c70f5249",
   "metadata": {},
   "source": [
    "**Objectives:**\n",
    "\n",
    "* List popular languages for Data Science.\n",
    "* Explore key libraries for Data Science.\n",
    "* Understand basic data visualization techniques.\n"
   ]
  },
  {
   "cell_type": "markdown",
   "id": "d15baa49-9f43-4387-958c-de6c6276171e",
   "metadata": {},
   "source": [
    "Some of the popular languages that Data Scientists use are:\n",
    "1. Python\n",
    "2. R\n",
    "3. SQL\n"
   ]
  },
  {
   "cell_type": "markdown",
   "id": "f53308e1-ecf3-4f09-a2e3-0828ba1b7f0a",
   "metadata": {
    "tags": []
   },
   "source": [
    "Some of the commonly used libraries used by Data Scientists include:\n",
    "1. NumPy\n",
    "2. Pandas\n",
    "3. Scikit-Learn"
   ]
  },
  {
   "cell_type": "markdown",
   "id": "78abe92e-dece-4a75-b0e1-40cedab1c7cd",
   "metadata": {},
   "source": [
    "| Data Science Tools   |\n",
    "|:--------------------:|\n",
    "| Jupyter Notebook     |\n",
    "| RStudio              |\n",
    "| Visual Studio Code   |\n"
   ]
  },
  {
   "cell_type": "markdown",
   "id": "b65c5637-683d-4e70-8e7f-6ba6f15b986f",
   "metadata": {},
   "source": [
    "### Below are a few examples of evaluating arithmetic expressions in Python"
   ]
  },
  {
   "cell_type": "code",
   "execution_count": 3,
   "id": "cec141f2-4425-42f6-bd4e-b01412ec721c",
   "metadata": {
    "tags": []
   },
   "outputs": [
    {
     "data": {
      "text/plain": [
       "17"
      ]
     },
     "execution_count": 3,
     "metadata": {},
     "output_type": "execute_result"
    }
   ],
   "source": [
    "# This a simple arithmetic expression to mutiply then add integers.\n",
    "(3*4)+5"
   ]
  },
  {
   "cell_type": "code",
   "execution_count": 6,
   "id": "e3f25239-a89f-460c-b247-1403dcd98820",
   "metadata": {
    "tags": []
   },
   "outputs": [
    {
     "name": "stdout",
     "output_type": "stream",
     "text": [
      "3.3333333333333335\n"
     ]
    }
   ],
   "source": [
    "#  This will convert 200 minutes to hours by dividng by 60.\n",
    "totalHours = 200 / 60\n",
    "print(totalHours)"
   ]
  },
  {
   "cell_type": "markdown",
   "id": "1d46d715-9ccf-40c2-98fb-509022928596",
   "metadata": {
    "tags": []
   },
   "source": [
    "## Author\n",
    "Maryam Zia"
   ]
  },
  {
   "cell_type": "code",
   "execution_count": null,
   "id": "986448d8-8ea9-4f97-bf10-36839ee7de24",
   "metadata": {},
   "outputs": [],
   "source": []
  }
 ],
 "metadata": {
  "kernelspec": {
   "display_name": "Python",
   "language": "python",
   "name": "conda-env-python-py"
  },
  "language_info": {
   "codemirror_mode": {
    "name": "ipython",
    "version": 3
   },
   "file_extension": ".py",
   "mimetype": "text/x-python",
   "name": "python",
   "nbconvert_exporter": "python",
   "pygments_lexer": "ipython3",
   "version": "3.7.12"
  }
 },
 "nbformat": 4,
 "nbformat_minor": 5
}
